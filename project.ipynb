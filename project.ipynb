{
 "cells": [
  {
   "cell_type": "markdown",
   "metadata": {},
   "source": [
    "<h2>Data Analysis & Visualization - CA1</h2>"
   ]
  },
  {
   "cell_type": "markdown",
   "metadata": {},
   "source": [
    "<h5>Data Selection</h5>\n",
    "\n",
    "<h7>The Dataset has been sourced from - https://www.kaggle.com/datasets/adityadesai13/used-car-dataset-ford-and-mercedes?rvi=1</h7>\n"
   ]
  },
  {
   "cell_type": "code",
   "execution_count": 40,
   "metadata": {},
   "outputs": [],
   "source": [
    "import os\n",
    "import pandas as pd\n",
    "from sklearn.impute import SimpleImputer, KNNImputer\n",
    "from sklearn.preprocessing import LabelEncoder"
   ]
  },
  {
   "cell_type": "code",
   "execution_count": 48,
   "metadata": {},
   "outputs": [
    {
     "name": "stdout",
     "output_type": "stream",
     "text": [
      "model           0\n",
      "year            0\n",
      "price           0\n",
      "transmission    0\n",
      "mileage         0\n",
      "fuelType        0\n",
      "tax             0\n",
      "mpg             0\n",
      "engineSize      0\n",
      "dtype: int64\n",
      "           model  year  price transmission  mileage fuelType  tax   mpg  \\\n",
      "0         Fiesta  2017  12000    Automatic    15944   Petrol  150  57.7   \n",
      "1          Focus  2018  14000       Manual     9083   Petrol  150  57.7   \n",
      "2          Focus  2017  13000       Manual    12456   Petrol  150  57.7   \n",
      "3         Fiesta  2019  17500       Manual    10460   Petrol  145  40.3   \n",
      "4         Fiesta  2019  16500    Automatic     1482   Petrol  145  48.7   \n",
      "...          ...   ...    ...          ...      ...      ...  ...   ...   \n",
      "99182         X3  2016  19000    Automatic    40818   Diesel  150  54.3   \n",
      "99183   5 Series  2016  14600    Automatic    42947   Diesel  125  60.1   \n",
      "99184   3 Series  2017  13100       Manual    25468   Petrol  200  42.8   \n",
      "99185   1 Series  2014   9930    Automatic    45000   Diesel   30  64.2   \n",
      "99186         X1  2017  15981    Automatic    59432   Diesel  125  57.6   \n",
      "\n",
      "       engineSize  \n",
      "0             1.0  \n",
      "1             1.0  \n",
      "2             1.0  \n",
      "3             1.5  \n",
      "4             1.0  \n",
      "...           ...  \n",
      "99182         2.0  \n",
      "99183         2.0  \n",
      "99184         2.0  \n",
      "99185         2.0  \n",
      "99186         2.0  \n",
      "\n",
      "[99187 rows x 9 columns]\n"
     ]
    }
   ],
   "source": [
    "cwd = os.getcwd()\n",
    "os.chdir(\"D:/Year 4/DAV/DAV-CA1\")\n",
    "data = pd.read_csv(\"uk_car_dataset.csv\")\n",
    "print(data.isnull().sum())\n",
    "print(data)"
   ]
  },
  {
   "cell_type": "markdown",
   "metadata": {},
   "source": [
    "<h5>Imputation Of Missing Data</h5>\n"
   ]
  },
  {
   "cell_type": "code",
   "execution_count": 55,
   "metadata": {},
   "outputs": [
    {
     "name": "stdout",
     "output_type": "stream",
     "text": [
      "Before --------------------------\n",
      "model           0\n",
      "year            0\n",
      "price           0\n",
      "transmission    0\n",
      "mileage         0\n",
      "fuelType        0\n",
      "tax             0\n",
      "mpg             0\n",
      "engineSize      0\n",
      "dtype: int64\n",
      "After --------------------------\n",
      "model           0\n",
      "year            0\n",
      "price           0\n",
      "transmission    0\n",
      "mileage         0\n",
      "fuelType        0\n",
      "tax             0\n",
      "mpg             0\n",
      "engineSize      0\n",
      "dtype: int64\n",
      "Data --------------------------\n",
      "           model  year    price transmission  mileage fuelType    tax   mpg  \\\n",
      "0         Fiesta  2017  12000.0    Automatic  15944.0   Petrol  150.0  57.7   \n",
      "1          Focus  2018  14000.0       Manual   9083.0   Petrol  150.0  57.7   \n",
      "2          Focus  2017  13000.0       Manual  12456.0   Petrol  150.0  57.7   \n",
      "3         Fiesta  2019  17500.0       Manual  10460.0   Petrol  145.0  40.3   \n",
      "4         Fiesta  2019  16500.0    Automatic   1482.0   Petrol  145.0  48.7   \n",
      "...          ...   ...      ...          ...      ...      ...    ...   ...   \n",
      "99182         X3  2016  19000.0    Automatic  40818.0   Diesel  150.0  54.3   \n",
      "99183   5 Series  2016  14600.0    Automatic  42947.0   Diesel  125.0  60.1   \n",
      "99184   3 Series  2017  13100.0       Manual  25468.0   Petrol  200.0  42.8   \n",
      "99185   1 Series  2014   9930.0    Automatic  45000.0   Diesel   30.0  64.2   \n",
      "99186         X1  2017  15981.0    Automatic  59432.0   Diesel  125.0  57.6   \n",
      "\n",
      "       engineSize  \n",
      "0             1.0  \n",
      "1             1.0  \n",
      "2             1.0  \n",
      "3             1.5  \n",
      "4             1.0  \n",
      "...           ...  \n",
      "99182         2.0  \n",
      "99183         2.0  \n",
      "99184         2.0  \n",
      "99185         2.0  \n",
      "99186         2.0  \n",
      "\n",
      "[99187 rows x 9 columns]\n"
     ]
    }
   ],
   "source": [
    "print(\"Before --------------------------\")\n",
    "print(data.isnull().sum())\n",
    "\n",
    "imputers = {\n",
    "    'price': SimpleImputer(strategy='median'),\n",
    "    'year': SimpleImputer(strategy='most_frequent'),\n",
    "    'transmission': SimpleImputer(strategy='most_frequent'),\n",
    "    'mileage': SimpleImputer(strategy='median'),\n",
    "    'fuelType': SimpleImputer(strategy='most_frequent'),\n",
    "    'tax': SimpleImputer(strategy='mean'),\n",
    "    'mpg': KNNImputer(n_neighbors=5),\n",
    "    'engineSize': KNNImputer(n_neighbors=5)\n",
    "}\n",
    "\n",
    "for col, imputer in imputers.items():\n",
    "    if col == 'model':\n",
    "        data[col]\n",
    "    else:\n",
    "        imputed_data = imputer.fit_transform(data[col].values.reshape(-1, 1))\n",
    "        data[col] = imputed_data.squeeze()\n",
    "\n",
    "print(\"After --------------------------\")\n",
    "print(data.isnull().sum())\n",
    "\n",
    "print(\"Data --------------------------\")\n",
    "print(data)"
   ]
  },
  {
   "cell_type": "code",
   "execution_count": 52,
   "metadata": {},
   "outputs": [
    {
     "name": "stdout",
     "output_type": "stream",
     "text": [
      "           model  year    price transmission  mileage fuelType    tax   mpg  \\\n",
      "0         Fiesta  2017  12000.0    Automatic  15944.0   Petrol  150.0  57.7   \n",
      "1          Focus  2018  14000.0       Manual   9083.0   Petrol  150.0  57.7   \n",
      "2          Focus  2017  13000.0       Manual  12456.0   Petrol  150.0  57.7   \n",
      "3         Fiesta  2019  17500.0       Manual  10460.0   Petrol  145.0  40.3   \n",
      "4         Fiesta  2019  16500.0    Automatic   1482.0   Petrol  145.0  48.7   \n",
      "...          ...   ...      ...          ...      ...      ...    ...   ...   \n",
      "99182         X3  2016  19000.0    Automatic  40818.0   Diesel  150.0  54.3   \n",
      "99183   5 Series  2016  14600.0    Automatic  42947.0   Diesel  125.0  60.1   \n",
      "99184   3 Series  2017  13100.0       Manual  25468.0   Petrol  200.0  42.8   \n",
      "99185   1 Series  2014   9930.0    Automatic  45000.0   Diesel   30.0  64.2   \n",
      "99186         X1  2017  15981.0    Automatic  59432.0   Diesel  125.0  57.6   \n",
      "\n",
      "       engineSize  \n",
      "0             1.0  \n",
      "1             1.0  \n",
      "2             1.0  \n",
      "3             1.5  \n",
      "4             1.0  \n",
      "...           ...  \n",
      "99182         2.0  \n",
      "99183         2.0  \n",
      "99184         2.0  \n",
      "99185         2.0  \n",
      "99186         2.0  \n",
      "\n",
      "[99187 rows x 9 columns]\n"
     ]
    }
   ],
   "source": [
    "print(data)"
   ]
  },
  {
   "cell_type": "markdown",
   "metadata": {},
   "source": [
    "<h5>Multivariate Analysis</h5>\n"
   ]
  },
  {
   "cell_type": "code",
   "execution_count": null,
   "metadata": {},
   "outputs": [],
   "source": []
  },
  {
   "cell_type": "markdown",
   "metadata": {},
   "source": [
    "<h5>Normalisation</h5>\n"
   ]
  },
  {
   "cell_type": "markdown",
   "metadata": {},
   "source": [
    "<h5>Weighting and Aggregation</h5>\n"
   ]
  },
  {
   "cell_type": "markdown",
   "metadata": {},
   "source": [
    "<h5>Uncertainty and Sensitivity Analysis</h5>\n"
   ]
  },
  {
   "cell_type": "markdown",
   "metadata": {},
   "source": [
    "<h5>Back To The Data</h5>\n"
   ]
  },
  {
   "cell_type": "markdown",
   "metadata": {},
   "source": [
    "<h5>Links to Other Indicators</h5>\n"
   ]
  },
  {
   "cell_type": "markdown",
   "metadata": {},
   "source": [
    "<h5>Visualisation Of the Results</h5>\n"
   ]
  }
 ],
 "metadata": {
  "kernelspec": {
   "display_name": "Python 3",
   "language": "python",
   "name": "python3"
  },
  "language_info": {
   "codemirror_mode": {
    "name": "ipython",
    "version": 3
   },
   "file_extension": ".py",
   "mimetype": "text/x-python",
   "name": "python",
   "nbconvert_exporter": "python",
   "pygments_lexer": "ipython3",
   "version": "3.11.3"
  }
 },
 "nbformat": 4,
 "nbformat_minor": 2
}
